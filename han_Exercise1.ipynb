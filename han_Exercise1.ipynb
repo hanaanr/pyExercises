{
 "cells": [
  {
   "cell_type": "markdown",
   "metadata": {
    "id": "Cr0gt67YMlpc"
   },
   "source": [
    "\n",
    "<center>\n",
    "\n",
    "**Exercises: Lesson 1**\n",
    "\n",
    "Computing & Numerical Methods\n",
    "\n",
    "Hanaan Shafi \n",
    "\n",
    "</center>\n",
    "\n"
   ]
  },
  {
   "cell_type": "code",
   "execution_count": 2,
   "metadata": {
    "id": "z5nmb_yBwEwP"
   },
   "outputs": [],
   "source": [
    "import numpy as np"
   ]
  },
  {
   "cell_type": "code",
   "execution_count": 3,
   "metadata": {
    "id": "JsYQNQQCwIqa"
   },
   "outputs": [],
   "source": [
    "temp_data = np.loadtxt(fname='T_Alicante_EM.csv', delimiter=',', skiprows=1) # loading the data"
   ]
  },
  {
   "cell_type": "markdown",
   "metadata": {
    "id": "5RgwavkfzDP6"
   },
   "source": [
    "Exercise (1.1): How would you compute minimum, maximum and average March temperatures for the given dataset?"
   ]
  },
  {
   "cell_type": "code",
   "execution_count": 4,
   "metadata": {
    "colab": {
     "base_uri": "https://localhost:8080/"
    },
    "id": "9c7seud7ySCs",
    "outputId": "3d5622e0-8ff4-4312-dc4b-040fa83fbb38"
   },
   "outputs": [
    {
     "name": "stdout",
     "output_type": "stream",
     "text": [
      "The minimum March temperature is: 12.42\n",
      "The maximum March temperature is: 16.76\n",
      "The average March temperature is: 14.086838235294117\n"
     ]
    }
   ],
   "source": [
    "# Minimum temperature in March \n",
    "print('The minimum March temperature is:', np.min(temp_data[:, 3]))\n",
    "\n",
    "# Maximum temperature in March \n",
    "print('The maximum March temperature is:', np.max(temp_data[:, 3]))\n",
    "\n",
    "# Average temperature in March \n",
    "print('The average March temperature is:', np.average(temp_data[:, 3]))"
   ]
  },
  {
   "cell_type": "markdown",
   "metadata": {
    "id": "HgC_402UzBOs"
   },
   "source": [
    "Exercise (1.2): Check the info on the numpy mean function and compute the average monthly temperatures and the average annual temperatures for the given dataset (Hint: axis option)"
   ]
  },
  {
   "cell_type": "code",
   "execution_count": 5,
   "metadata": {
    "colab": {
     "base_uri": "https://localhost:8080/"
    },
    "id": "m8xn2vDnGJr8",
    "outputId": "6de6f9f1-b3ef-4751-a280-be0ee5fd23f2"
   },
   "outputs": [
    {
     "name": "stdout",
     "output_type": "stream",
     "text": [
      "[11.94933824 12.49007353 14.08683824 16.19860294 19.095      22.74375\n",
      " 25.74705882 26.15955882 23.79691176 19.76845588 15.67661765 12.88889706]\n"
     ]
    }
   ],
   "source": [
    "# The average monthly temperatures \n",
    "print(temp_data[:, 1:].mean(axis=0))"
   ]
  },
  {
   "cell_type": "code",
   "execution_count": 6,
   "metadata": {
    "colab": {
     "base_uri": "https://localhost:8080/"
    },
    "id": "uiKgt-tyHEPo",
    "outputId": "82cdbd2a-caab-4f0d-e248-392900a82e51"
   },
   "outputs": [
    {
     "name": "stdout",
     "output_type": "stream",
     "text": [
      "[17.1425     16.97       16.985      16.86083333 17.03166667 17.00666667\n",
      " 17.33666667 17.63333333 16.77333333 17.17416667 16.955      17.15666667\n",
      " 17.25416667 17.16666667 17.16666667 17.31666667 17.3775     17.34583333\n",
      " 17.07583333 17.01583333 16.85833333 17.14166667 17.23083333 16.88916667\n",
      " 17.17416667 17.18583333 17.37916667 17.44583333 17.11583333 17.49083333\n",
      " 17.24       17.305      17.61083333 17.5425     17.4675     17.4125\n",
      " 17.615      17.40166667 17.49583333 17.435      17.67583333 17.58916667\n",
      " 17.3775     17.7175     17.6625     17.59333333 17.37083333 17.56\n",
      " 17.5325     17.84583333 17.61666667 17.50666667 18.03666667 17.3475\n",
      " 17.695      18.38833333 17.87916667 17.61833333 18.21666667 17.51916667\n",
      " 17.74083333 17.90583333 17.95083333 17.82333333 18.23916667 17.925\n",
      " 18.07083333 18.32916667 18.4475     18.1875     18.12583333 17.88916667\n",
      " 18.32333333 18.155      18.57083333 18.30083333 18.0125     18.45\n",
      " 18.6625     18.4825     18.48416667 18.58083333 18.445      18.33\n",
      " 18.68666667 18.98166667 18.38666667 18.88416667 19.06916667 19.16\n",
      " 18.99083333 18.91083333 19.13       18.97       19.40833333 19.31166667\n",
      " 19.03666667 19.03333333 18.99333333 19.08666667 19.24083333 19.295\n",
      " 19.39666667 19.39916667 19.62       19.9        19.61916667 19.62083333\n",
      " 19.5125     19.70166667 19.69416667 19.7225     19.62416667 19.375\n",
      " 19.5625     19.67583333 19.8625     19.68083333 19.6475     20.22416667\n",
      " 20.095      20.2475     20.01083333 20.04416667 19.82166667 19.89166667\n",
      " 20.05833333 20.53083333 20.43666667 20.365      20.60666667 20.30083333\n",
      " 20.16333333 20.54416667 20.285      19.965     ]\n"
     ]
    }
   ],
   "source": [
    "# The average annual temperatures\n",
    "print(temp_data[:, 1:].mean(axis=1))"
   ]
  },
  {
   "cell_type": "markdown",
   "metadata": {
    "id": "YiEJ9E3nHQYD"
   },
   "source": [
    "\n",
    "Exercise (1.3): Get the maximum and minimum monthly temperatures for year 2000 and at what months did these temperatures occur.\n"
   ]
  },
  {
   "cell_type": "code",
   "execution_count": 7,
   "metadata": {
    "colab": {
     "base_uri": "https://localhost:8080/"
    },
    "id": "04a4qEbvHRKC",
    "outputId": "0540dd2b-2cdc-4726-a4ac-c54637a81ac2"
   },
   "outputs": [
    {
     "name": "stdout",
     "output_type": "stream",
     "text": [
      "The minimum temperature in the year 2000 was  10.92\n",
      "The maximum temperature in the year 2000 was: 24.63\n"
     ]
    }
   ],
   "source": [
    "# Minimum temperature in 2000\n",
    "print('The minimum temperature in the year 2000 was ', np.min(temp_data[np.where(temp_data[:,0] == 2000)][0][1:]))\n",
    "\n",
    "# Maximum temperature in 2000 \n",
    "print('The maximum temperature in the year 2000 was:', np.max(temp_data[np.where(temp_data[:,0] == 2000)][0][1:]))\n"
   ]
  }
 ],
 "metadata": {
  "colab": {
   "name": "han Exercise1.ipynb",
   "provenance": []
  },
  "kernelspec": {
   "display_name": "Python 3",
   "language": "python",
   "name": "python3"
  },
  "language_info": {
   "codemirror_mode": {
    "name": "ipython",
    "version": 3
   },
   "file_extension": ".py",
   "mimetype": "text/x-python",
   "name": "python",
   "nbconvert_exporter": "python",
   "pygments_lexer": "ipython3",
   "version": "3.7.3"
  }
 },
 "nbformat": 4,
 "nbformat_minor": 1
}
