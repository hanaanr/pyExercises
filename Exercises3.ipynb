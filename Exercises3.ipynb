{
  "nbformat": 4,
  "nbformat_minor": 0,
  "metadata": {
    "colab": {
      "name": "Exercises3.ipynb",
      "provenance": [],
      "collapsed_sections": []
    },
    "kernelspec": {
      "name": "python3",
      "display_name": "Python 3"
    },
    "language_info": {
      "name": "python"
    }
  },
  "cells": [
    {
      "cell_type": "markdown",
      "metadata": {
        "id": "2q2vK5Q5ub04"
      },
      "source": [
        "## **Exercises: Lesson 3**\n",
        "Hanaan Shafi\n",
        "\n",
        "---\n",
        "\n",
        "\n"
      ]
    },
    {
      "cell_type": "markdown",
      "source": [
        "**Exercise 3.1:** Making use of conditionals, compute the equivalence between the age of a dog and a human taking into account the rules that follow:\n",
        "\n",
        "1. A one-year-old dog is equivalent to a 14-year-old human being.\n",
        "\n",
        "2. A dog that is two years old is considered equivalent to a 22-year-old person.\n",
        "\n",
        "3. Each additional dog year is equivalent to five human years. "
      ],
      "metadata": {
        "id": "ghwkhmECGNKz"
      }
    },
    {
      "cell_type": "code",
      "source": [
        "d = int(input(\"Enter dog's age: \"))\n",
        "\n",
        "if d==1:\n",
        "  print(\"Human's age: 14\")\n",
        "elif d==2:\n",
        "  print(\"Human's age: 22\")\n",
        "else:\n",
        "  print(\"Human's age: \", d*5)"
      ],
      "metadata": {
        "colab": {
          "base_uri": "https://localhost:8080/"
        },
        "id": "7wjaIAJwGlRX",
        "outputId": "e7149539-5a07-44c4-d836-f5f31bf4c1b6"
      },
      "execution_count": 1,
      "outputs": [
        {
          "output_type": "stream",
          "name": "stdout",
          "text": [
            "Enter dog's age: 5\n",
            "Human's age:  25\n"
          ]
        }
      ]
    },
    {
      "cell_type": "markdown",
      "metadata": {
        "id": "4pTLVa3cukDR"
      },
      "source": [
        "**Exercise 3.2:** Prepare a loop such that given when it is given as an input a string variable it produces as output another string variable equal to the first string in reversed order, e.g. a = \"abcd\" and reverseda = \"dcba\""
      ]
    },
    {
      "cell_type": "code",
      "metadata": {
        "id": "xmB5zXAkuMCv",
        "colab": {
          "base_uri": "https://localhost:8080/"
        },
        "outputId": "0ba6710b-5d96-4c3b-e249-857f03fd465e"
      },
      "source": [
        "word = input(\"Enter a word: \")\n",
        "output = \"\"\n",
        "\n",
        "for i in word[::-1]: # we iterate over each character of the string, but backwards\n",
        "   output += i # add each character to our empty output string \n",
        "\n",
        "print(output)"
      ],
      "execution_count": 2,
      "outputs": [
        {
          "output_type": "stream",
          "name": "stdout",
          "text": [
            "Enter a word: Hello World\n",
            "dlroW olleH\n"
          ]
        }
      ]
    },
    {
      "cell_type": "markdown",
      "metadata": {
        "id": "GivnqLVOv7r5"
      },
      "source": [
        "**Exercise 3.3:** Use a loop to convert the string \"Testing loops and strings…\" into another string, changing spaces into \"_\" (underscore)."
      ]
    },
    {
      "cell_type": "code",
      "metadata": {
        "colab": {
          "base_uri": "https://localhost:8080/"
        },
        "id": "7qlvRuiCv41d",
        "outputId": "e7a515cd-698a-48e1-ca12-2d2b9ecf1541"
      },
      "source": [
        "test_string = \"Testing loops and strings\"\n",
        "output = \"\"\n",
        "\n",
        "for i in test_string:\n",
        "  if i==\" \": # when we arrive at a space while iterating over the string, then:\n",
        "    output += \"_\" # replace the space with an underscore\n",
        "  else: # otherwise:\n",
        "    output += i # just add the character as is\n",
        "\n",
        "print(output)"
      ],
      "execution_count": 3,
      "outputs": [
        {
          "output_type": "stream",
          "name": "stdout",
          "text": [
            "Testing_loops_and_strings\n"
          ]
        }
      ]
    },
    {
      "cell_type": "markdown",
      "metadata": {
        "id": "KrJqawi3-mr7"
      },
      "source": [
        "**Exercise 3.4:** Given the list AA = [1.0, -2.0, 3.0, 5.5, 0.3] and considering that these are the values of the coefficients for a polynomial P(x) = AA[0] + AA[1]*x + ... + AA[n]*x**n, prepare a loop that computes the polynomial value for a given independent variable x value. For example, in the given case P(x) = 7.8 for x = 1."
      ]
    },
    {
      "cell_type": "code",
      "metadata": {
        "colab": {
          "base_uri": "https://localhost:8080/"
        },
        "id": "Z7-OEERQ-o8Q",
        "outputId": "016349a0-3040-477a-d801-0f48a618098d"
      },
      "source": [
        "x = int(input(\"Enter a value for x: \"))\n",
        "AA = [1.0, -2.0, 3.0, 5.5, 0.3]\n",
        "Px = 0 # reset the value of Px to zero every time\n",
        "\n",
        "for i in AA: \n",
        "  Px += i*(x**(AA.index(i)))\n",
        "\n",
        "print(\"Px =\", Px)"
      ],
      "execution_count": 4,
      "outputs": [
        {
          "output_type": "stream",
          "name": "stdout",
          "text": [
            "Enter a value for x: 1\n",
            "Px = 7.8\n"
          ]
        }
      ]
    },
    {
      "cell_type": "markdown",
      "metadata": {
        "id": "mR6jtxgHAQhJ"
      },
      "source": [
        "**Exercise 3.5:** Compute for the loaded temperature dataset the average seasonal temperatures and gives as a results a Python list with these temperatures."
      ]
    },
    {
      "cell_type": "code",
      "metadata": {
        "colab": {
          "base_uri": "https://localhost:8080/"
        },
        "id": "51GtkM-NARXz",
        "outputId": "9babacc5-4d65-4e64-d772-e32b787e8d7a"
      },
      "source": [
        "import numpy as np\n",
        "temp_data = np.loadtxt(fname = \"T_Alicante_EM.csv\", delimiter=',', skiprows=1)\n",
        "\n",
        "# defining the seasons \n",
        "spring = [3, 4, 5]\n",
        "summer = [6, 7, 8]\n",
        "autumn = [9, 10, 11]\n",
        "winter = [12, 1, 2]\n",
        "\n",
        "# define the list containing seasonal averages\n",
        "seasonal_averages = [np.mean(temp_data[:, spring]), np.mean(temp_data[:, summer]),\n",
        "                 np.mean(temp_data[:, autumn]), np.mean(temp_data[:, winter])]\n",
        "\n",
        "print(seasonal_averages)"
      ],
      "execution_count": 6,
      "outputs": [
        {
          "output_type": "stream",
          "name": "stdout",
          "text": [
            "[16.46014705882353, 24.883455882352944, 19.747328431372548, 12.442769607843138]\n"
          ]
        }
      ]
    },
    {
      "cell_type": "markdown",
      "metadata": {
        "id": "KZ4JOJ2eEILr"
      },
      "source": [
        "**Exercise 3.6:** Build a code that, for a given month and considering the loaded temperature dataset, finds the mean and minimum temperature values for the selected month and then it builds a Python list with the years that have an average temperature for the selected month that is less than the average value of the minimum and mean temperature."
      ]
    },
    {
      "cell_type": "code",
      "metadata": {
        "colab": {
          "base_uri": "https://localhost:8080/"
        },
        "id": "YFya6mj1C666",
        "outputId": "0ae76efd-268e-4079-95ae-ba5833cab5a2"
      },
      "source": [
        "import calendar # importing a module for calendar data\n",
        "month_dict = {month: index for index, month in enumerate(calendar.month_abbr) if month} # dictionary with months connected to their numbers\n",
        "month_input = input(\"Enter any month (first three letters): \") \n",
        "\n",
        "min = np.min(temp_data[:, month_dict[month_input]])\n",
        "mean = np.mean(temp_data[:, month_dict[month_input]])\n",
        "\n",
        "years_list = []\n",
        "for i in temp_data[:, month_dict[month_input]]:\n",
        "  if i < ((min + mean)/2):\n",
        "    years_list.append(temp_data[np.where(temp_data[:,month_dict[month_input]] == i)][0][0])\n",
        "\n",
        "print(\"The list of years with average temp. for\", month_input, \n",
        "      \"that is less than the average of the minimum and mean temp. is \\n\", years_list)"
      ],
      "execution_count": 7,
      "outputs": [
        {
          "output_type": "stream",
          "name": "stdout",
          "text": [
            "Enter any month (first three letters): Mar\n",
            "The list of years with average temp. for Mar that is less than the average of the minimum and mean temp. is \n",
            " [1962.0, 1963.0, 1964.0, 1965.0, 1966.0, 1967.0, 1969.0, 1965.0, 1964.0, 1975.0, 1977.0, 1979.0, 1980.0, 1981.0, 1982.0, 1984.0, 1985.0, 1989.0, 1991.0, 1992.0, 1994.0, 1980.0, 1969.0, 1975.0, 1964.0, 2004.0, 2005.0, 2012.0, 2014.0, 1982.0, 1969.0]\n"
          ]
        }
      ]
    }
  ]
}